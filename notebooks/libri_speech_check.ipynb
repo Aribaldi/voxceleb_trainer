{
 "cells": [
  {
   "cell_type": "code",
   "execution_count": 1,
   "metadata": {},
   "outputs": [
    {
     "name": "stderr",
     "output_type": "stream",
     "text": [
      "/home/iref/Repos/voxceleb_trainer/env/lib/python3.10/site-packages/tqdm/auto.py:22: TqdmWarning: IProgress not found. Please update jupyter and ipywidgets. See https://ipywidgets.readthedocs.io/en/stable/user_install.html\n",
      "  from .autonotebook import tqdm as notebook_tqdm\n",
      "torchvision is not available - cannot save figures\n"
     ]
    }
   ],
   "source": [
    "import pandas as pd\n",
    "import numpy as np\n",
    "from pathlib import Path\n",
    "from HuCapa_trainer import evaluateFromList\n",
    "from Ecapa_trainer import EcapaTrainer\n",
    "from HuCapa_trainer import HuCapaTrainer\n",
    "from neural_compressor.training import prepare_compression\n",
    "from neural_compressor.config import DistillationConfig, KnowledgeDistillationLossConfig\n",
    "from models.HuCapa import HuCapa\n",
    "from models.CustomEcapa import ECAPA_TDNN\n",
    "import torch\n",
    "import time\n",
    "from tuneThreshold import *"
   ]
  },
  {
   "cell_type": "code",
   "execution_count": 2,
   "metadata": {},
   "outputs": [
    {
     "name": "stdout",
     "output_type": "stream",
     "text": [
      "/home/iref/Repos/voxceleb_trainer\n"
     ]
    }
   ],
   "source": [
    "%cd .."
   ]
  },
  {
   "cell_type": "markdown",
   "metadata": {},
   "source": [
    "# Prepare Vox-like test list"
   ]
  },
  {
   "cell_type": "code",
   "execution_count": 3,
   "metadata": {},
   "outputs": [],
   "source": [
    "frame = pd.read_csv(\"./data/protocol.csv\")"
   ]
  },
  {
   "cell_type": "code",
   "execution_count": 4,
   "metadata": {},
   "outputs": [
    {
     "data": {
      "text/html": [
       "<div>\n",
       "<style scoped>\n",
       "    .dataframe tbody tr th:only-of-type {\n",
       "        vertical-align: middle;\n",
       "    }\n",
       "\n",
       "    .dataframe tbody tr th {\n",
       "        vertical-align: top;\n",
       "    }\n",
       "\n",
       "    .dataframe thead th {\n",
       "        text-align: right;\n",
       "    }\n",
       "</style>\n",
       "<table border=\"1\" class=\"dataframe\">\n",
       "  <thead>\n",
       "    <tr style=\"text-align: right;\">\n",
       "      <th></th>\n",
       "      <th>enroll</th>\n",
       "      <th>verify</th>\n",
       "      <th>enroll_user</th>\n",
       "      <th>verify_user</th>\n",
       "      <th>predict_class</th>\n",
       "    </tr>\n",
       "  </thead>\n",
       "  <tbody>\n",
       "    <tr>\n",
       "      <th>0</th>\n",
       "      <td>test-clean/121/121726/121-121726-0000.wav</td>\n",
       "      <td>test-clean/121/121726/121-121726-0001.wav</td>\n",
       "      <td>121</td>\n",
       "      <td>121</td>\n",
       "      <td>1</td>\n",
       "    </tr>\n",
       "    <tr>\n",
       "      <th>1</th>\n",
       "      <td>test-clean/121/121726/121-121726-0000.wav</td>\n",
       "      <td>test-clean/121/121726/121-121726-0002.wav</td>\n",
       "      <td>121</td>\n",
       "      <td>121</td>\n",
       "      <td>1</td>\n",
       "    </tr>\n",
       "    <tr>\n",
       "      <th>2</th>\n",
       "      <td>test-clean/121/121726/121-121726-0000.wav</td>\n",
       "      <td>test-clean/121/121726/121-121726-0003.wav</td>\n",
       "      <td>121</td>\n",
       "      <td>121</td>\n",
       "      <td>1</td>\n",
       "    </tr>\n",
       "    <tr>\n",
       "      <th>3</th>\n",
       "      <td>test-clean/121/121726/121-121726-0000.wav</td>\n",
       "      <td>test-clean/121/121726/121-121726-0004.wav</td>\n",
       "      <td>121</td>\n",
       "      <td>121</td>\n",
       "      <td>1</td>\n",
       "    </tr>\n",
       "    <tr>\n",
       "      <th>4</th>\n",
       "      <td>test-clean/121/121726/121-121726-0000.wav</td>\n",
       "      <td>test-clean/121/121726/121-121726-0005.wav</td>\n",
       "      <td>121</td>\n",
       "      <td>121</td>\n",
       "      <td>1</td>\n",
       "    </tr>\n",
       "    <tr>\n",
       "      <th>...</th>\n",
       "      <td>...</td>\n",
       "      <td>...</td>\n",
       "      <td>...</td>\n",
       "      <td>...</td>\n",
       "      <td>...</td>\n",
       "    </tr>\n",
       "    <tr>\n",
       "      <th>1721026</th>\n",
       "      <td>test-clean/908/31957/908-31957-0022.wav</td>\n",
       "      <td>test-clean/908/31957/908-31957-0024.wav</td>\n",
       "      <td>908</td>\n",
       "      <td>908</td>\n",
       "      <td>1</td>\n",
       "    </tr>\n",
       "    <tr>\n",
       "      <th>1721027</th>\n",
       "      <td>test-clean/908/31957/908-31957-0022.wav</td>\n",
       "      <td>test-clean/908/31957/908-31957-0025.wav</td>\n",
       "      <td>908</td>\n",
       "      <td>908</td>\n",
       "      <td>1</td>\n",
       "    </tr>\n",
       "    <tr>\n",
       "      <th>1721028</th>\n",
       "      <td>test-clean/908/31957/908-31957-0023.wav</td>\n",
       "      <td>test-clean/908/31957/908-31957-0024.wav</td>\n",
       "      <td>908</td>\n",
       "      <td>908</td>\n",
       "      <td>1</td>\n",
       "    </tr>\n",
       "    <tr>\n",
       "      <th>1721029</th>\n",
       "      <td>test-clean/908/31957/908-31957-0023.wav</td>\n",
       "      <td>test-clean/908/31957/908-31957-0025.wav</td>\n",
       "      <td>908</td>\n",
       "      <td>908</td>\n",
       "      <td>1</td>\n",
       "    </tr>\n",
       "    <tr>\n",
       "      <th>1721030</th>\n",
       "      <td>test-clean/908/31957/908-31957-0024.wav</td>\n",
       "      <td>test-clean/908/31957/908-31957-0025.wav</td>\n",
       "      <td>908</td>\n",
       "      <td>908</td>\n",
       "      <td>1</td>\n",
       "    </tr>\n",
       "  </tbody>\n",
       "</table>\n",
       "<p>1721031 rows × 5 columns</p>\n",
       "</div>"
      ],
      "text/plain": [
       "                                            enroll  \\\n",
       "0        test-clean/121/121726/121-121726-0000.wav   \n",
       "1        test-clean/121/121726/121-121726-0000.wav   \n",
       "2        test-clean/121/121726/121-121726-0000.wav   \n",
       "3        test-clean/121/121726/121-121726-0000.wav   \n",
       "4        test-clean/121/121726/121-121726-0000.wav   \n",
       "...                                            ...   \n",
       "1721026    test-clean/908/31957/908-31957-0022.wav   \n",
       "1721027    test-clean/908/31957/908-31957-0022.wav   \n",
       "1721028    test-clean/908/31957/908-31957-0023.wav   \n",
       "1721029    test-clean/908/31957/908-31957-0023.wav   \n",
       "1721030    test-clean/908/31957/908-31957-0024.wav   \n",
       "\n",
       "                                            verify  enroll_user  verify_user  \\\n",
       "0        test-clean/121/121726/121-121726-0001.wav          121          121   \n",
       "1        test-clean/121/121726/121-121726-0002.wav          121          121   \n",
       "2        test-clean/121/121726/121-121726-0003.wav          121          121   \n",
       "3        test-clean/121/121726/121-121726-0004.wav          121          121   \n",
       "4        test-clean/121/121726/121-121726-0005.wav          121          121   \n",
       "...                                            ...          ...          ...   \n",
       "1721026    test-clean/908/31957/908-31957-0024.wav          908          908   \n",
       "1721027    test-clean/908/31957/908-31957-0025.wav          908          908   \n",
       "1721028    test-clean/908/31957/908-31957-0024.wav          908          908   \n",
       "1721029    test-clean/908/31957/908-31957-0025.wav          908          908   \n",
       "1721030    test-clean/908/31957/908-31957-0025.wav          908          908   \n",
       "\n",
       "         predict_class  \n",
       "0                    1  \n",
       "1                    1  \n",
       "2                    1  \n",
       "3                    1  \n",
       "4                    1  \n",
       "...                ...  \n",
       "1721026              1  \n",
       "1721027              1  \n",
       "1721028              1  \n",
       "1721029              1  \n",
       "1721030              1  \n",
       "\n",
       "[1721031 rows x 5 columns]"
      ]
     },
     "execution_count": 4,
     "metadata": {},
     "output_type": "execute_result"
    }
   ],
   "source": [
    "frame"
   ]
  },
  {
   "cell_type": "code",
   "execution_count": 15,
   "metadata": {},
   "outputs": [],
   "source": [
    "t = frame.apply(lambda row: str(row[\"predict_class\"]) + \" \" + row[\"enroll\"] + \" \" +  row[\"verify\"], axis=1)"
   ]
  },
  {
   "cell_type": "code",
   "execution_count": 21,
   "metadata": {},
   "outputs": [],
   "source": [
    "with open(\"./data/ls_test_list.txt\", \"w+\") as f:\n",
    "    for line in t.to_list():\n",
    "        f.write(f\"{line}\\n\") "
   ]
  },
  {
   "cell_type": "markdown",
   "metadata": {},
   "source": [
    "# Evaluation"
   ]
  },
  {
   "cell_type": "code",
   "execution_count": 3,
   "metadata": {},
   "outputs": [
    {
     "name": "stdout",
     "output_type": "stream",
     "text": [
      "Initialised AAMSoftmax margin 0.200 scale 30.000\n",
      "03-13 16:41:54 Overall parameters: = 6194048.00\n",
      "Learnable model parameters: 6194048\n",
      "Learnable loss parameters: 1150848\n",
      "Sched type: StepLR\n"
     ]
    }
   ],
   "source": [
    "ecp = EcapaTrainer(test_path=\"./data/librispeech/\", test_file=\"./data/ls_test_list.txt\", batch_size=256)"
   ]
  },
  {
   "cell_type": "code",
   "execution_count": 4,
   "metadata": {},
   "outputs": [
    {
     "data": {
      "text/plain": [
       "20"
      ]
     },
     "execution_count": 4,
     "metadata": {},
     "output_type": "execute_result"
    }
   ],
   "source": [
    "ecp.load_params(\"./exps/Ecapa/sb_augs/11-20/11-20_cp.tar\")"
   ]
  },
  {
   "cell_type": "code",
   "execution_count": 5,
   "metadata": {},
   "outputs": [
    {
     "name": "stdout",
     "output_type": "stream",
     "text": [
      "Reading 2600 of 2620: 109.08 Hz, embedding size 1\n",
      "Computing 1721000 of 1721031: 7143.32 Hz\n",
      " 2023-03-13 16:46:27 Epoch 20, VEER 3.3091, MinDCF 0.16564\n"
     ]
    },
    {
     "data": {
      "text/plain": [
       "(3.3091272934864677, 0.16564214594815027)"
      ]
     },
     "execution_count": 5,
     "metadata": {},
     "output_type": "execute_result"
    }
   ],
   "source": [
    "ecp.eval(20)"
   ]
  },
  {
   "cell_type": "code",
   "execution_count": 7,
   "metadata": {},
   "outputs": [
    {
     "name": "stdout",
     "output_type": "stream",
     "text": [
      "Initialised AAMSoftmax margin 0.200 scale 30.000\n",
      "03-13 16:47:20 Overall parameters: = 118661837.00\n",
      "Learnable parameters: 24290125\n",
      "Sched type: StepLR\n"
     ]
    }
   ],
   "source": [
    "hcp = HuCapaTrainer(test_path=\"./data/librispeech/\", test_file=\"./data/ls_test_list.txt\", batch_size=256, max_frames = 200)"
   ]
  },
  {
   "cell_type": "code",
   "execution_count": 8,
   "metadata": {},
   "outputs": [
    {
     "data": {
      "text/plain": [
       "24"
      ]
     },
     "execution_count": 8,
     "metadata": {},
     "output_type": "execute_result"
    }
   ],
   "source": [
    "hcp.load_params(\"./exps/HuCapa/cyclic_sched_2/16-24/16-24_cp.tar\")"
   ]
  },
  {
   "cell_type": "code",
   "execution_count": 9,
   "metadata": {},
   "outputs": [
    {
     "name": "stdout",
     "output_type": "stream",
     "text": [
      "Reading 2600 of 2620: 24.00 Hz, embedding size 192\n",
      "Computing 1721000 of 1721031: 6726.16 Hz\n",
      " 2023-03-13 16:53:34 VEER 2.1498, MinDCF 0.11260\n"
     ]
    },
    {
     "data": {
      "text/plain": [
       "(2.149824382075005, 0.11260072423964769)"
      ]
     },
     "execution_count": 9,
     "metadata": {},
     "output_type": "execute_result"
    }
   ],
   "source": [
    "hcp.eval()"
   ]
  },
  {
   "cell_type": "code",
   "execution_count": 12,
   "metadata": {},
   "outputs": [
    {
     "name": "stderr",
     "output_type": "stream",
     "text": [
      "2023-03-13 16:56:04 [WARNING] Force convert framework model to neural_compressor model.\n",
      "2023-03-13 16:56:04 [WARNING] Force convert framework model to neural_compressor model.\n",
      "2023-03-13 16:56:04 [INFO] student_targets_loss: CE, 0.5\n",
      "2023-03-13 16:56:04 [INFO] teacher_student_loss: MSE, 0.5\n"
     ]
    },
    {
     "data": {
      "text/plain": [
       "PyTorchFXModel(\n",
       "  (_model): ECAPA_TDNN(\n",
       "    (torchfbank): Sequential(\n",
       "      (0): PreEmphasis()\n",
       "      (1): MelSpectrogram(\n",
       "        (spectrogram): Spectrogram()\n",
       "        (mel_scale): MelScale()\n",
       "      )\n",
       "    )\n",
       "    (conv1): Conv1d(80, 512, kernel_size=(5,), stride=(1,), padding=(2,))\n",
       "    (relu): ReLU()\n",
       "    (bn1): BatchNorm1d(512, eps=1e-05, momentum=0.1, affine=True, track_running_stats=True)\n",
       "    (layer1): Bottle2neck(\n",
       "      (conv1): Conv1d(512, 512, kernel_size=(1,), stride=(1,))\n",
       "      (bn1): BatchNorm1d(512, eps=1e-05, momentum=0.1, affine=True, track_running_stats=True)\n",
       "      (convs): ModuleList(\n",
       "        (0): Conv1d(64, 64, kernel_size=(3,), stride=(1,), padding=(2,), dilation=(2,))\n",
       "        (1): Conv1d(64, 64, kernel_size=(3,), stride=(1,), padding=(2,), dilation=(2,))\n",
       "        (2): Conv1d(64, 64, kernel_size=(3,), stride=(1,), padding=(2,), dilation=(2,))\n",
       "        (3): Conv1d(64, 64, kernel_size=(3,), stride=(1,), padding=(2,), dilation=(2,))\n",
       "        (4): Conv1d(64, 64, kernel_size=(3,), stride=(1,), padding=(2,), dilation=(2,))\n",
       "        (5): Conv1d(64, 64, kernel_size=(3,), stride=(1,), padding=(2,), dilation=(2,))\n",
       "        (6): Conv1d(64, 64, kernel_size=(3,), stride=(1,), padding=(2,), dilation=(2,))\n",
       "      )\n",
       "      (bns): ModuleList(\n",
       "        (0): BatchNorm1d(64, eps=1e-05, momentum=0.1, affine=True, track_running_stats=True)\n",
       "        (1): BatchNorm1d(64, eps=1e-05, momentum=0.1, affine=True, track_running_stats=True)\n",
       "        (2): BatchNorm1d(64, eps=1e-05, momentum=0.1, affine=True, track_running_stats=True)\n",
       "        (3): BatchNorm1d(64, eps=1e-05, momentum=0.1, affine=True, track_running_stats=True)\n",
       "        (4): BatchNorm1d(64, eps=1e-05, momentum=0.1, affine=True, track_running_stats=True)\n",
       "        (5): BatchNorm1d(64, eps=1e-05, momentum=0.1, affine=True, track_running_stats=True)\n",
       "        (6): BatchNorm1d(64, eps=1e-05, momentum=0.1, affine=True, track_running_stats=True)\n",
       "      )\n",
       "      (conv3): Conv1d(512, 512, kernel_size=(1,), stride=(1,))\n",
       "      (bn3): BatchNorm1d(512, eps=1e-05, momentum=0.1, affine=True, track_running_stats=True)\n",
       "      (relu): ReLU()\n",
       "      (se): SEModule(\n",
       "        (se): Sequential(\n",
       "          (0): AdaptiveAvgPool1d(output_size=1)\n",
       "          (1): Conv1d(512, 128, kernel_size=(1,), stride=(1,))\n",
       "          (2): ReLU()\n",
       "          (3): Conv1d(128, 512, kernel_size=(1,), stride=(1,))\n",
       "          (4): Sigmoid()\n",
       "        )\n",
       "      )\n",
       "    )\n",
       "    (layer2): Bottle2neck(\n",
       "      (conv1): Conv1d(512, 512, kernel_size=(1,), stride=(1,))\n",
       "      (bn1): BatchNorm1d(512, eps=1e-05, momentum=0.1, affine=True, track_running_stats=True)\n",
       "      (convs): ModuleList(\n",
       "        (0): Conv1d(64, 64, kernel_size=(3,), stride=(1,), padding=(3,), dilation=(3,))\n",
       "        (1): Conv1d(64, 64, kernel_size=(3,), stride=(1,), padding=(3,), dilation=(3,))\n",
       "        (2): Conv1d(64, 64, kernel_size=(3,), stride=(1,), padding=(3,), dilation=(3,))\n",
       "        (3): Conv1d(64, 64, kernel_size=(3,), stride=(1,), padding=(3,), dilation=(3,))\n",
       "        (4): Conv1d(64, 64, kernel_size=(3,), stride=(1,), padding=(3,), dilation=(3,))\n",
       "        (5): Conv1d(64, 64, kernel_size=(3,), stride=(1,), padding=(3,), dilation=(3,))\n",
       "        (6): Conv1d(64, 64, kernel_size=(3,), stride=(1,), padding=(3,), dilation=(3,))\n",
       "      )\n",
       "      (bns): ModuleList(\n",
       "        (0): BatchNorm1d(64, eps=1e-05, momentum=0.1, affine=True, track_running_stats=True)\n",
       "        (1): BatchNorm1d(64, eps=1e-05, momentum=0.1, affine=True, track_running_stats=True)\n",
       "        (2): BatchNorm1d(64, eps=1e-05, momentum=0.1, affine=True, track_running_stats=True)\n",
       "        (3): BatchNorm1d(64, eps=1e-05, momentum=0.1, affine=True, track_running_stats=True)\n",
       "        (4): BatchNorm1d(64, eps=1e-05, momentum=0.1, affine=True, track_running_stats=True)\n",
       "        (5): BatchNorm1d(64, eps=1e-05, momentum=0.1, affine=True, track_running_stats=True)\n",
       "        (6): BatchNorm1d(64, eps=1e-05, momentum=0.1, affine=True, track_running_stats=True)\n",
       "      )\n",
       "      (conv3): Conv1d(512, 512, kernel_size=(1,), stride=(1,))\n",
       "      (bn3): BatchNorm1d(512, eps=1e-05, momentum=0.1, affine=True, track_running_stats=True)\n",
       "      (relu): ReLU()\n",
       "      (se): SEModule(\n",
       "        (se): Sequential(\n",
       "          (0): AdaptiveAvgPool1d(output_size=1)\n",
       "          (1): Conv1d(512, 128, kernel_size=(1,), stride=(1,))\n",
       "          (2): ReLU()\n",
       "          (3): Conv1d(128, 512, kernel_size=(1,), stride=(1,))\n",
       "          (4): Sigmoid()\n",
       "        )\n",
       "      )\n",
       "    )\n",
       "    (layer3): Bottle2neck(\n",
       "      (conv1): Conv1d(512, 512, kernel_size=(1,), stride=(1,))\n",
       "      (bn1): BatchNorm1d(512, eps=1e-05, momentum=0.1, affine=True, track_running_stats=True)\n",
       "      (convs): ModuleList(\n",
       "        (0): Conv1d(64, 64, kernel_size=(3,), stride=(1,), padding=(4,), dilation=(4,))\n",
       "        (1): Conv1d(64, 64, kernel_size=(3,), stride=(1,), padding=(4,), dilation=(4,))\n",
       "        (2): Conv1d(64, 64, kernel_size=(3,), stride=(1,), padding=(4,), dilation=(4,))\n",
       "        (3): Conv1d(64, 64, kernel_size=(3,), stride=(1,), padding=(4,), dilation=(4,))\n",
       "        (4): Conv1d(64, 64, kernel_size=(3,), stride=(1,), padding=(4,), dilation=(4,))\n",
       "        (5): Conv1d(64, 64, kernel_size=(3,), stride=(1,), padding=(4,), dilation=(4,))\n",
       "        (6): Conv1d(64, 64, kernel_size=(3,), stride=(1,), padding=(4,), dilation=(4,))\n",
       "      )\n",
       "      (bns): ModuleList(\n",
       "        (0): BatchNorm1d(64, eps=1e-05, momentum=0.1, affine=True, track_running_stats=True)\n",
       "        (1): BatchNorm1d(64, eps=1e-05, momentum=0.1, affine=True, track_running_stats=True)\n",
       "        (2): BatchNorm1d(64, eps=1e-05, momentum=0.1, affine=True, track_running_stats=True)\n",
       "        (3): BatchNorm1d(64, eps=1e-05, momentum=0.1, affine=True, track_running_stats=True)\n",
       "        (4): BatchNorm1d(64, eps=1e-05, momentum=0.1, affine=True, track_running_stats=True)\n",
       "        (5): BatchNorm1d(64, eps=1e-05, momentum=0.1, affine=True, track_running_stats=True)\n",
       "        (6): BatchNorm1d(64, eps=1e-05, momentum=0.1, affine=True, track_running_stats=True)\n",
       "      )\n",
       "      (conv3): Conv1d(512, 512, kernel_size=(1,), stride=(1,))\n",
       "      (bn3): BatchNorm1d(512, eps=1e-05, momentum=0.1, affine=True, track_running_stats=True)\n",
       "      (relu): ReLU()\n",
       "      (se): SEModule(\n",
       "        (se): Sequential(\n",
       "          (0): AdaptiveAvgPool1d(output_size=1)\n",
       "          (1): Conv1d(512, 128, kernel_size=(1,), stride=(1,))\n",
       "          (2): ReLU()\n",
       "          (3): Conv1d(128, 512, kernel_size=(1,), stride=(1,))\n",
       "          (4): Sigmoid()\n",
       "        )\n",
       "      )\n",
       "    )\n",
       "    (layer4): Conv1d(1536, 1536, kernel_size=(1,), stride=(1,))\n",
       "    (attention): Sequential(\n",
       "      (0): Conv1d(4608, 256, kernel_size=(1,), stride=(1,))\n",
       "      (1): ReLU()\n",
       "      (2): BatchNorm1d(256, eps=1e-05, momentum=0.1, affine=True, track_running_stats=True)\n",
       "      (3): Tanh()\n",
       "      (4): Conv1d(256, 1536, kernel_size=(1,), stride=(1,))\n",
       "      (5): Softmax(dim=2)\n",
       "    )\n",
       "    (bn5): BatchNorm1d(3072, eps=1e-05, momentum=0.1, affine=True, track_running_stats=True)\n",
       "    (fc6): Linear(in_features=3072, out_features=192, bias=True)\n",
       "    (bn6): BatchNorm1d(192, eps=1e-05, momentum=0.1, affine=True, track_running_stats=True)\n",
       "  )\n",
       ")"
      ]
     },
     "execution_count": 12,
     "metadata": {},
     "output_type": "execute_result"
    }
   ],
   "source": [
    "device = torch.device(\"cuda\" if torch.cuda.is_available() else \"cpu\")\n",
    "teacher = HuCapa(device=device)\n",
    "student = ECAPA_TDNN(512)\n",
    "distillation_criterion = KnowledgeDistillationLossConfig(loss_types=[\"CE\", \"MSE\"], loss_weights=[0.5, 0.5])\n",
    "conf = DistillationConfig(teacher_model=teacher, criterion=distillation_criterion, optimizer={\"SGD\": {\"learning_rate\": 0.0001}})\n",
    "compression_manager = prepare_compression(student, conf)\n",
    "compression_manager.callbacks.on_train_begin()\n",
    "model = compression_manager.model\n",
    "checkpoint = torch.load(\"exps/distill/0-20_distill_ecapa_cp.tar\")\n",
    "model.load_state_dict(checkpoint[\"ecapa\"])\n",
    "model.to(device)"
   ]
  },
  {
   "cell_type": "code",
   "execution_count": 17,
   "metadata": {},
   "outputs": [],
   "source": [
    "def eval(model):\n",
    "    model.eval()\n",
    "    sc, lab, _ = evaluateFromList(\"./data/ls_test_list.txt\", \"./data/librispeech/\", model, 16)\n",
    "    result = tuneThresholdfromScore(sc, lab, [1, 0.1])\n",
    "    fnrs, fprs, thresholds = ComputeErrorRates(sc, lab)\n",
    "    mindcf, _ = ComputeMinDcf(fnrs, fprs, thresholds, p_target=0.05, c_miss=1, c_fa=1)\n",
    "    print('\\n',time.strftime(\"%Y-%m-%d %H:%M:%S\"), \"Epoch {:d}, VEER {:2.4f}, MinDCF {:2.5f}\".format(20, result[1], mindcf))\n",
    "    return result[1], mindcf"
   ]
  },
  {
   "cell_type": "code",
   "execution_count": 18,
   "metadata": {},
   "outputs": [
    {
     "name": "stdout",
     "output_type": "stream",
     "text": [
      "Reading 2600 of 2620: 123.02 Hz, embedding size 192\n",
      "Computing 1721000 of 1721031: 6694.94 Hz\n",
      " 2023-03-13 17:03:08 Epoch 20, VEER 2.6642, MinDCF 0.13470\n"
     ]
    },
    {
     "data": {
      "text/plain": [
       "(2.664172855884561, 0.13469824807435213)"
      ]
     },
     "execution_count": 18,
     "metadata": {},
     "output_type": "execute_result"
    }
   ],
   "source": [
    "eval(model)"
   ]
  },
  {
   "cell_type": "code",
   "execution_count": 3,
   "metadata": {},
   "outputs": [],
   "source": [
    "test = Path(\"./exps/HuCapa/cyclic_sched_2/13-15/\")"
   ]
  },
  {
   "cell_type": "code",
   "execution_count": 6,
   "metadata": {},
   "outputs": [
    {
     "data": {
      "text/plain": [
       "'cyclic_sched_2'"
      ]
     },
     "execution_count": 6,
     "metadata": {},
     "output_type": "execute_result"
    }
   ],
   "source": [
    "test.parent.stem"
   ]
  },
  {
   "cell_type": "code",
   "execution_count": null,
   "metadata": {},
   "outputs": [],
   "source": []
  }
 ],
 "metadata": {
  "kernelspec": {
   "display_name": "voxceleb_trainer",
   "language": "python",
   "name": "voxceleb_trainer"
  },
  "language_info": {
   "codemirror_mode": {
    "name": "ipython",
    "version": 3
   },
   "file_extension": ".py",
   "mimetype": "text/x-python",
   "name": "python",
   "nbconvert_exporter": "python",
   "pygments_lexer": "ipython3",
   "version": "3.10.9"
  },
  "orig_nbformat": 4,
  "vscode": {
   "interpreter": {
    "hash": "a0f38e09feef0cea8df00ddcd984fa43773ae8fe676344bc5bb3462d861c4e57"
   }
  }
 },
 "nbformat": 4,
 "nbformat_minor": 2
}
